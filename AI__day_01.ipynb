{
 "cells": [
  {
   "cell_type": "code",
   "execution_count": null,
   "metadata": {},
   "outputs": [],
   "source": [
    "#While loop >> If else >> Try except\n",
    "while True:\n",
    "    try:\n",
    "        num1 = int(input(\"Enter number:\\t\"))\n",
    "        if num1%2==0:\n",
    "            print(\"Even number\")\n",
    "        else:\n",
    "            print(\"Odd number\")\n",
    "    except ValueError:\n",
    "        print(\"Invlid input---Please try again\")\n",
    "    "
   ]
  },
  {
   "cell_type": "code",
   "execution_count": null,
   "metadata": {},
   "outputs": [],
   "source": [
    "##Current Date and Time code\n",
    "from datetime import date\n",
    "c_date = date.today()\n",
    "print(\"Today's date is:\\t\",c_date)\n",
    "print(c_date.strftime(\"%B %d, %Y\"))\n",
    "print(\"Date time:\\t\",c_date.strftime(\"%d-%m-%y\"))"
   ]
  },
  {
   "cell_type": "code",
   "execution_count": null,
   "metadata": {},
   "outputs": [],
   "source": [
    "#10 Second Count down Timer\n",
    "import time\n",
    "def timeCounter(inputTime):\n",
    "    while inputTime:\n",
    "        mins,sec = divmod(inputTime,60)\n",
    "        timer = '{:02d}:{:02d}'.format(mins, sec)\n",
    "        print(timer, end=\"\\r\")\n",
    "        time.sleep(1)\n",
    "        inputTime -= 1  \n",
    "    print('Time completed!!')\n",
    "    \n",
    "t = int(input(\"Enter time in seconds\"))\n",
    "timeCounter(t)"
   ]
  },
  {
   "cell_type": "code",
   "execution_count": null,
   "metadata": {},
   "outputs": [],
   "source": [
    "# get Ip address using python\n",
    "# Python Program to Get IP Address\n",
    "import socket\n",
    "hostname = socket.gethostname()\n",
    "IPAddr = socket.gethostbyname(hostname)\n",
    "\n",
    "print(\"Your Computer Name is:\" + hostname)\n",
    "print(\"Your Computer IP Address is:\" + IPAddr)\n"
   ]
  },
  {
   "cell_type": "code",
   "execution_count": null,
   "metadata": {},
   "outputs": [],
   "source": [
    "# Python 3 code to print MAC\n",
    "# in formatted way.\n",
    "\n",
    "import uuid\n",
    "\n",
    "# joins elements of getnode() after each 2 digits.\n",
    "\n",
    "print (\"The MAC address in formatted way is : \", end=\"\")\n",
    "print (':'.join(['{:02x}'.format((uuid.getnode() >> ele) & 0xff)\n",
    "for ele in range(0,8*6,8)][::-1]))"
   ]
  },
  {
   "cell_type": "code",
   "execution_count": null,
   "metadata": {},
   "outputs": [],
   "source": [
    "import uuid\n",
    "print(hex(uuid.getnode()))"
   ]
  },
  {
   "cell_type": "code",
   "execution_count": null,
   "metadata": {},
   "outputs": [],
   "source": [
    "from datetime import datetime\n",
    "import pytz\n",
    "\n",
    "# Get the timezone object for New York\n",
    "tz_NY = pytz.timezone('America/New_York') \n",
    "\n",
    "# Get the current time in New York\n",
    "datetime_NY = datetime.now(tz_NY)\n",
    "\n",
    "# Format the time as a string and print it\n",
    "print(\"NY time:\", datetime_NY.strftime(\"%H:%M:%S\"))\n",
    "\n",
    "# Get the timezone object for London\n",
    "tz_London = pytz.timezone('Europe/London')\n",
    "\n",
    "# Get the current time in London\n",
    "datetime_London = datetime.now(tz_London)\n",
    "\n",
    "# Format the time as a string and print it\n",
    "print(\"London time:\", datetime_London.strftime(\"%H:%M:%S\"))"
   ]
  },
  {
   "cell_type": "code",
   "execution_count": null,
   "metadata": {},
   "outputs": [],
   "source": [
    "import os\n",
    "print(os.system('ipconfig getifaddr en1 '))\n",
    "#ip and mac address are uses for trial version software -->given 10 days trial and \n"
   ]
  }
 ],
 "metadata": {
  "kernelspec": {
   "display_name": "Python 3",
   "language": "python",
   "name": "python3"
  },
  "language_info": {
   "codemirror_mode": {
    "name": "ipython",
    "version": 3
   },
   "file_extension": ".py",
   "mimetype": "text/x-python",
   "name": "python",
   "nbconvert_exporter": "python",
   "pygments_lexer": "ipython3",
   "version": "3.11.4"
  },
  "orig_nbformat": 4
 },
 "nbformat": 4,
 "nbformat_minor": 2
}
