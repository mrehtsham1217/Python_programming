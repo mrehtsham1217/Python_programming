{
 "cells": [
  {
   "cell_type": "markdown",
   "id": "5bd25f41-d530-4f91-8f02-b344d1ed9f18",
   "metadata": {},
   "source": [
    "# **QNO:01**"
   ]
  },
  {
   "cell_type": "code",
   "execution_count": 3,
   "id": "3842275c-b8b8-455d-8c5a-d3922aafcef7",
   "metadata": {},
   "outputs": [
    {
     "name": "stdin",
     "output_type": "stream",
     "text": [
      "Enter miles: 4\n"
     ]
    },
    {
     "name": "stdout",
     "output_type": "stream",
     "text": [
      "Total kilomters are:\t 6.438113632705617\n"
     ]
    }
   ],
   "source": [
    "\"\"\"\n",
    "Task 1: Ask the user to enter a value in miles \n",
    "and convert it in kilo meters (1 kilometer=0.6213 Mile).\n",
    "\"\"\"\n",
    "miles_input = float(input(\"Enter miles:\"))\n",
    "kilometers = miles_input *(1/ 0.6213)\n",
    "print(\"Total kilomters are:\\t\",kilometers)"
   ]
  },
  {
   "cell_type": "markdown",
   "id": "50e805f3-4653-4bea-a732-9e0fbc6dd68a",
   "metadata": {},
   "source": [
    "# **QNO:02**"
   ]
  },
  {
   "cell_type": "code",
   "execution_count": 1,
   "id": "fac13a05-568b-483e-8279-7ce5350402a4",
   "metadata": {},
   "outputs": [
    {
     "name": "stdin",
     "output_type": "stream",
     "text": [
      "Enter the value of a 2\n",
      "Enter the value of x 2\n"
     ]
    },
    {
     "name": "stdout",
     "output_type": "stream",
     "text": [
      "The value of y is :  19\n"
     ]
    }
   ],
   "source": [
    "\"\"\"\n",
    "Task 2: Given an equation y=ax3+ax2+x-7.\n",
    "Input the values of a and x from user and\n",
    "display the value of y on screen.\n",
    "\"\"\"\n",
    "# y = ax^3+ax^2+x-7\n",
    "a = int(input(\"Enter the value of a\"))\n",
    "x = int(input(\"Enter the value of x\"))\n",
    "\n",
    "y = a*x**3+a*x**2+x-7\n",
    "print(\"The value of y is : \",y)"
   ]
  },
  {
   "cell_type": "markdown",
   "id": "8feba32d-21f4-460d-8adc-495777d40b66",
   "metadata": {},
   "source": [
    "# **QNO:03**"
   ]
  },
  {
   "cell_type": "code",
   "execution_count": 4,
   "id": "fbb39d07-948a-4006-a693-bc8f010002cf",
   "metadata": {},
   "outputs": [
    {
     "name": "stdin",
     "output_type": "stream",
     "text": [
      "Enter temp in celsius: 35.5\n"
     ]
    },
    {
     "name": "stdout",
     "output_type": "stream",
     "text": [
      "Fahrenheit temperature is:  95.9\n"
     ]
    }
   ],
   "source": [
    "\"\"\"\n",
    "Task 3: Write a program that reads a Celsius degree\n",
    "from the console and converts it to Fahrenheit and displays the result.\n",
    "\"\"\"\n",
    "celsius_temp = float(input(\"Enter temp in celsius:\"))\n",
    "fahrenheit = (9/5 * celsius_temp ) + 32\n",
    "print(\"Fahrenheit temperature is: \",fahrenheit)"
   ]
  },
  {
   "cell_type": "markdown",
   "id": "82179438-8470-45fb-a663-6f1ce6b76ddb",
   "metadata": {},
   "source": [
    "# **QNO:04**"
   ]
  },
  {
   "cell_type": "code",
   "execution_count": 5,
   "id": "683d1327-6149-4368-a282-3ef16246183c",
   "metadata": {},
   "outputs": [
    {
     "name": "stdin",
     "output_type": "stream",
     "text": [
      "Enter radius: 4\n",
      "Enter length of cylinder: 5\n"
     ]
    },
    {
     "name": "stdout",
     "output_type": "stream",
     "text": [
      "Area of cylinder: 50.26548245743669\n",
      "Volume of cylinder: 251.32741228718345\n"
     ]
    }
   ],
   "source": [
    "\"\"\"\n",
    "Task 4: Write a program that reads in the radius and length of a cylinder\n",
    "and computes the area and volume.\n",
    "( area = radius * radius * π )\t( volume = area * length )\n",
    "\"\"\"\n",
    "import math\n",
    "radius = float(input(\"Enter radius:\"))\n",
    "length = float(input(\"Enter length of cylinder:\"))\n",
    "\n",
    "area = (radius*radius *math.pi)\n",
    "volume = area*length\n",
    "print(\"Area of cylinder:\",area)\n",
    "print(\"Volume of cylinder:\",volume)"
   ]
  },
  {
   "cell_type": "markdown",
   "id": "6276bfea-9f57-48d9-b6a2-e4a330a334c2",
   "metadata": {},
   "source": [
    "# **QNO:05**"
   ]
  },
  {
   "cell_type": "code",
   "execution_count": 7,
   "id": "3853fb20-a153-44b6-8440-73912130bb93",
   "metadata": {},
   "outputs": [
    {
     "name": "stdin",
     "output_type": "stream",
     "text": [
      "Enter the value of n: 2\n"
     ]
    },
    {
     "name": "stdout",
     "output_type": "stream",
     "text": [
      "The value of X is: 1.7613253635096753\n"
     ]
    }
   ],
   "source": [
    "\"\"\"\n",
    "Output the value of X using the below given equation.\n",
    "Input the value of n from user.\n",
    "\"\"\"\n",
    "n = float(input(\"Enter the value of n:\"))\n",
    "X = (n+math.sqrt(n*n+8))**(1/3)\n",
    "\n",
    "print(\"The value of X is:\",X)"
   ]
  },
  {
   "cell_type": "markdown",
   "id": "88a40e48-a56f-4137-8e93-bc3c5536dc6a",
   "metadata": {},
   "source": [
    "# **QNO:06**"
   ]
  },
  {
   "cell_type": "code",
   "execution_count": 10,
   "id": "51509e7e-f27e-4524-b1ba-ca1f3ee3f854",
   "metadata": {},
   "outputs": [
    {
     "name": "stdin",
     "output_type": "stream",
     "text": [
      "Enter the value of a: 2\n",
      "Enter the value of b: 2\n",
      "Enter the value of c: 2\n",
      "Enter the value of d: 2\n"
     ]
    },
    {
     "name": "stdout",
     "output_type": "stream",
     "text": [
      "Left side: 2.0\n",
      "Right Side: 2.0\n"
     ]
    }
   ],
   "source": [
    "\"\"\"\n",
    "Task 6: Input the values of a, b, c and d. \n",
    "Verify that the inputted values satisfy the \n",
    "below given equation or not. a/b+c/d = ad+bc/bd\n",
    "\"\"\"\n",
    "a = float(input(\"Enter the value of a:\"))\n",
    "b = float(input(\"Enter the value of b:\"))\n",
    "c = float(input(\"Enter the value of c:\"))\n",
    "d = float(input(\"Enter the value of d:\"))\n",
    "\n",
    "left_side = a/b+c/d\n",
    "right_side = (a*d+b*c)/(b*d)\n",
    "print(\"Left side:\",left_side)\n",
    "print(\"Right Side:\",right_side)"
   ]
  },
  {
   "cell_type": "markdown",
   "id": "840e2a9a-a5e2-4a6e-81e1-2fff559c5d9b",
   "metadata": {},
   "source": [
    "# **QNO:07**"
   ]
  },
  {
   "cell_type": "code",
   "execution_count": 17,
   "id": "06a25606-a508-4ba5-bed3-fde615250295",
   "metadata": {},
   "outputs": [
    {
     "name": "stdin",
     "output_type": "stream",
     "text": [
      "Enter the value of a: 2\n",
      "Enter the value of b: 10\n",
      "Enter the value of c: 2\n"
     ]
    },
    {
     "name": "stdout",
     "output_type": "stream",
     "text": [
      "The value of x is : -0.20871215252208009\n"
     ]
    }
   ],
   "source": [
    "\"\"\"\n",
    "Task 7: Output the value of ‘x’ \n",
    "using the below given equation. \n",
    "Analyze and input the values to be inputted.\n",
    "-b+sqrt(b^2-4ac)/2a\n",
    "\"\"\"\n",
    "a = float(input(\"Enter the value of a:\"))\n",
    "b = float(input(\"Enter the value of b:\"))\n",
    "c = float(input(\"Enter the value of c:\"))\n",
    "desc = (b**2 - 4*a*c)\n",
    "if desc>=0:\n",
    "    x = (-b + math.sqrt(desc)) / (2*a)\n",
    "    print(\"The value of x is :\",x)\n",
    "else:\n",
    "    print(\"This root has not real value\")"
   ]
  },
  {
   "cell_type": "markdown",
   "id": "c9730bc9-9476-4735-a5dc-ec2f4614ccd5",
   "metadata": {},
   "source": [
    "# **QNO:08**"
   ]
  },
  {
   "cell_type": "code",
   "execution_count": 20,
   "id": "a76fc78f-6952-475e-92d8-d94563ba7f36",
   "metadata": {},
   "outputs": [
    {
     "name": "stdin",
     "output_type": "stream",
     "text": [
      "Enter your marks: 68.8\n"
     ]
    },
    {
     "name": "stdout",
     "output_type": "stream",
     "text": [
      "Grade C\n"
     ]
    }
   ],
   "source": [
    "# SELECTIVE STATEMENTS\n",
    "marks = float(input(\"Enter your marks:\"))\n",
    "\n",
    "if marks>=90:\n",
    "    print(\"Grade A+\")\n",
    "elif marks>=85 and marks<=89.9:\n",
    "    print(\"Grade A\")\n",
    "elif marks>=80 and marks<=84.9:\n",
    "    print(\"Grade A-\")\n",
    "elif marks>=80 and marks<=84.9:\n",
    "    print(\"Grade B+\")\n",
    "elif marks>=80 and marks<=84.9:\n",
    "    print(\"Grade B\")\n",
    "elif marks>=75 and marks<=79.9:\n",
    "    print(\"Grade B-\")\n",
    "elif marks>=70 and marks<=74.9:\n",
    "    print(\"Grade C+\")\n",
    "elif marks>=65 and marks<=69.9:\n",
    "    print(\"Grade C\")\n",
    "elif marks>=60 and marks<=64.9:\n",
    "    print(\"Grade C-\")\n",
    "elif marks>=55 and marks<=59.9:\n",
    "    print(\"Grade D+\")\n",
    "elif marks>=50 and marks<=54.9:\n",
    "    print(\"Grade D\")\n",
    "else:\n",
    "    print(\"Grade F\")"
   ]
  },
  {
   "cell_type": "markdown",
   "id": "8de3af2e-3b3f-4503-b8f5-3480e2907393",
   "metadata": {},
   "source": [
    "# **QNO:09**"
   ]
  },
  {
   "cell_type": "code",
   "execution_count": 21,
   "id": "2d228f0f-587d-4757-9a5f-7f951b9126a6",
   "metadata": {},
   "outputs": [
    {
     "name": "stdin",
     "output_type": "stream",
     "text": [
      "Enter height in meters: 1.89\n",
      "Enter weights in kg: 75\n"
     ]
    },
    {
     "name": "stdout",
     "output_type": "stream",
     "text": [
      "Your BMI is : 20.99605274208449\n"
     ]
    }
   ],
   "source": [
    "\"\"\"\n",
    "Task 9: User will enter his weight in Kilograms and height \n",
    "in meters (1 M=3.23 Feet). Calculate the BMI of the user and display following: \n",
    "• Display “You are Underweight” if BMI is less than 18.5 \n",
    "• Display “You are Normal” if BMI is between 8.5 and 24.9 \n",
    "• Display “You are Overweight” if BMI is between 25 and 29.9 \n",
    "• Display “You are Obese” if BMI is greater than 30\n",
    "BMI = WeightInKilograms / (heightInMeters2)\n",
    "\"\"\"\n",
    "heights = float(input(\"Enter height in meters:\"))\n",
    "weight = float(input(\"Enter weights in kg:\"))\n",
    "BMI = weight/heights**2\n",
    "print(\"Your BMI is :\",BMI)"
   ]
  },
  {
   "cell_type": "markdown",
   "id": "d4f7ec7b-45c8-4320-acb8-11d9aa1ded98",
   "metadata": {},
   "source": [
    "# **QNO:10**"
   ]
  },
  {
   "cell_type": "code",
   "execution_count": 22,
   "id": "470a4e37-df37-4103-a2a8-f3a254f82a84",
   "metadata": {},
   "outputs": [
    {
     "name": "stdin",
     "output_type": "stream",
     "text": [
      "Enter a number: 33\n"
     ]
    },
    {
     "name": "stdout",
     "output_type": "stream",
     "text": [
      "DCS\n"
     ]
    }
   ],
   "source": [
    "\"\"\"\n",
    "Task 10: Write a program to display \"NTU\" if a number entered\n",
    "by user is a multiple of five , \n",
    "otherwise print \"DCS\".\n",
    "\"\"\"\n",
    "number = int(input(\"Enter a number:\"))\n",
    "if number%5==0:\n",
    "    print(\"NTU\")\n",
    "else:\n",
    "    print(\"DCS\")"
   ]
  },
  {
   "cell_type": "markdown",
   "id": "33e5b2e8-19a9-4e9d-87f5-0e8956959d1c",
   "metadata": {},
   "source": [
    "# **QNO:11**"
   ]
  },
  {
   "cell_type": "code",
   "execution_count": 28,
   "id": "e5ba890e-4132-4f2b-991c-f1356ab45522",
   "metadata": {},
   "outputs": [
    {
     "name": "stdin",
     "output_type": "stream",
     "text": [
      "Enter a number: 55\n"
     ]
    },
    {
     "name": "stdout",
     "output_type": "stream",
     "text": [
      "Not divisble\n"
     ]
    }
   ],
   "source": [
    "\"\"\"\n",
    "Task 11: Write a program to check whether the last digit of a number\n",
    "(entered by user) is \n",
    "divisible by 3 or not.\n",
    "\"\"\"\n",
    "number = int(input(\"Enter a number:\"))\n",
    "last_number = number%10\n",
    "if last_number%3==0:\n",
    "    print(\"Divisble by 3\")\n",
    "else:\n",
    "    print(\"Not divisble\")"
   ]
  },
  {
   "cell_type": "markdown",
   "id": "a37085ab-e406-4fff-8fe0-8a7b755cf031",
   "metadata": {},
   "source": [
    "# **QNO:12**"
   ]
  },
  {
   "cell_type": "code",
   "execution_count": 29,
   "id": "96bc9ed1-d87b-41b9-89c2-41219717906f",
   "metadata": {},
   "outputs": [
    {
     "name": "stdin",
     "output_type": "stream",
     "text": [
      "Enter pakistani currency 50000\n"
     ]
    },
    {
     "name": "stdout",
     "output_type": "stream",
     "text": [
      "pak currency: 50000.0\n",
      "Aus dollor: 487.3294346978558\n",
      "China Yuan: 2272.727272727273\n",
      "Euro: 297.3535533749628\n",
      "Qatri Riyal: 1184.8341232227488\n",
      "Saudi Riyal: 1221.001221001221\n",
      "UAE dirham: 1191.8951132300358\n",
      "UK pound: 252.33409033560434\n",
      "pak currency: 324.6753246753247\n"
     ]
    }
   ],
   "source": [
    "\"\"\"\n",
    "Task 12: Implement a currency converter which ask the user\n",
    "to enter value in Pak Rupees and convert in following: \n",
    "\"\"\"\n",
    "pak_currency = float(input(\"Enter pakistani currency\"))\n",
    "aus_dollor = pak_currency*(1/102.6)\n",
    "china_yuan = pak_currency*(1/22)\n",
    "euro = pak_currency*(1/168.15)\n",
    "qatri_riyal = pak_currency*(1/42.2)\n",
    "saudi_riyal = pak_currency*(1/40.95)\n",
    "uae_dirham = pak_currency*(1/41.95)\n",
    "uk_pound = pak_currency*(1/198.15)\n",
    "us_dollor = pak_currency*(1/154)\n",
    "\n",
    "print(\"pak currency:\",pak_currency)\n",
    "print(\"Aus dollor:\",aus_dollor)\n",
    "print(\"China Yuan:\",china_yuan)\n",
    "print(\"Euro:\",euro)\n",
    "print(\"Qatri Riyal:\",qatri_riyal)\n",
    "print(\"Saudi Riyal:\",saudi_riyal)\n",
    "print(\"UAE dirham:\",uae_dirham)\n",
    "print(\"UK pound:\",uk_pound)\n",
    "print(\"US Dollor:\",us_dollor)"
   ]
  },
  {
   "cell_type": "code",
   "execution_count": null,
   "id": "4cf5e8a0-c2a4-4a56-9bef-81a67e374aa4",
   "metadata": {},
   "outputs": [],
   "source": []
  }
 ],
 "metadata": {
  "kernelspec": {
   "display_name": "Python 3 (ipykernel)",
   "language": "python",
   "name": "python3"
  },
  "language_info": {
   "codemirror_mode": {
    "name": "ipython",
    "version": 3
   },
   "file_extension": ".py",
   "mimetype": "text/x-python",
   "name": "python",
   "nbconvert_exporter": "python",
   "pygments_lexer": "ipython3",
   "version": "3.10.12"
  }
 },
 "nbformat": 4,
 "nbformat_minor": 5
}
