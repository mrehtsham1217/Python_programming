{
 "cells": [
  {
   "cell_type": "code",
   "execution_count": null,
   "metadata": {},
   "outputs": [],
   "source": [
    "import matplotlib.pyplot as plt\n",
    "import numpy as np\n",
    "import pandas as pd"
   ]
  },
  {
   "cell_type": "code",
   "execution_count": null,
   "metadata": {},
   "outputs": [],
   "source": [
    "#-->01 Graph-->show graph-->title->xlabel-->ylabel-->label\n",
    "x = [0,1,2,3,4]\n",
    "y = [0,2,4,6,8]\n",
    "# plt.plot(x,y,'r.--',label=\"2x\",color='red',linewidth=3,marker='.',markersize=10,markeredgecolor='blue')\n",
    "plt.plot(x,y,'r^--',label='2x')\n",
    "plt.title(\"Welcome to matlplotlib\",fontdict={'fontname':'Comic Sans MS','fontsize':20})\n",
    "plt.xlabel(\"X-Axis\")\n",
    "plt.ylabel(\"Y-Axis\")\n",
    "plt.legend()\n",
    "plt.show()"
   ]
  },
  {
   "cell_type": "code",
   "execution_count": null,
   "metadata": {},
   "outputs": [],
   "source": [
    "#Resize your graph\n",
    "plt.figure(figsize=(4,3))\n",
    "x2 = np.arange(0,4.5,0.5)\n",
    "xsquare = x2**2\n",
    "print(xsquare)\n",
    "print(x2)\n",
    "plt.plot(x2)\n",
    "plt.plot(xsquare)\n",
    "plt.savefig('mygraph.png',dpi=300)\n",
    "plt.show()"
   ]
  },
  {
   "cell_type": "code",
   "execution_count": null,
   "metadata": {
    "tags": [
     "Bar chat"
    ]
   },
   "outputs": [],
   "source": [
    "label = ['A','B','C']\n",
    "values = [1,2,3]\n",
    "bars = plt.bar(label,values)\n",
    "plt.figure(figsize=(3,3))\n",
    "bars[0].set_hatch('/')\n",
    "bars[1].set_hatch('o')\n",
    "bars[2].set_hatch('*')\n",
    "plt.show()"
   ]
  },
  {
   "cell_type": "code",
   "execution_count": null,
   "metadata": {},
   "outputs": [],
   "source": [
    "#Examples of matplotlib\n",
    "gas = pd.read_csv('gas_prices.csv')\n",
    "plt.title('Gas price in different countries')\n",
    "plt.plot(gas.Year,gas.USA,'b.-',label=\"USA\")\n",
    "plt.plot(gas.Year,gas.Canada,'r.-',label=\"Canada\")\n",
    "plt.plot(gas['Year'],gas['South Korea'],'g.-',label=\"South Korea\")\n",
    "print(gas.Year[::3])\n",
    "plt.legend()\n",
    "plt.show()"
   ]
  },
  {
   "cell_type": "code",
   "execution_count": null,
   "metadata": {},
   "outputs": [],
   "source": [
    "gas = pd.read_csv('gas_prices.csv')\n",
    "plt.title('Gas price in different countries',fontdict={'fontweight': 'bold','fontsize':22})\n",
    "for country in gas:\n",
    "    if country!='Year':\n",
    "        #print(country)\n",
    "        plt.plot(gas.Year,gas[country],marker='.',label=country )\n",
    "plt.xticks(gas.Year[::3].tolist()+[2011])\n",
    "plt.xlabel(\"Years\")\n",
    "plt.ylabel(\"US Dollors\")\n",
    "plt.legend()\n",
    "plt.figure(figsize=(5,5))\n",
    "plt.show()\n",
    "plt.savefig('gase_graph.png',dpi=300)\n",
    "\n"
   ]
  },
  {
   "cell_type": "code",
   "execution_count": null,
   "metadata": {},
   "outputs": [],
   "source": [
    "#fifa file practice\n",
    "bins = [0,10,20,30,40,50,60,70,80,90,100]\n",
    "fifa = pd.read_csv('fifa.csv')\n",
    "print(fifa.Overall)\n",
    "plt.hist(fifa.Overall,bins = bins)\n",
    "plt.xticks(bins)\n",
    "plt.show()"
   ]
  }
 ],
 "metadata": {
  "kernelspec": {
   "display_name": "Python 3",
   "language": "python",
   "name": "python3"
  },
  "language_info": {
   "codemirror_mode": {
    "name": "ipython",
    "version": 3
   },
   "file_extension": ".py",
   "mimetype": "text/x-python",
   "name": "python",
   "nbconvert_exporter": "python",
   "pygments_lexer": "ipython3",
   "version": "3.11.4"
  },
  "orig_nbformat": 4
 },
 "nbformat": 4,
 "nbformat_minor": 2
}
