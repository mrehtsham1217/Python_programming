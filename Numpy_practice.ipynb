{
 "cells": [
  {
   "cell_type": "code",
   "execution_count": null,
   "metadata": {},
   "outputs": [],
   "source": [
    "print(\"\\nchecking the dimension of arrays------\\n\")\n",
    "a = np.array(10)\n",
    "b = np.array([1,2,3,4,5,6,7])\n",
    "c = np.array([[1,2,3],[4,5,6]])\n",
    "d = np.array([[[1,2,3],[4,5,6]],[[7,8,9],[9,8,7]]])\n",
    "print(a.ndim)#123 456\n",
    "print(b.ndim)#789 987\n",
    "print(c.ndim)\n",
    "print(d.ndim)"
   ]
  },
  {
   "cell_type": "code",
   "execution_count": null,
   "metadata": {},
   "outputs": [],
   "source": [
    "#Accessing the index of arrays\n",
    "print(b[0])\n",
    "print(b[1])\n",
    "print(b[2])\n",
    "print(b[0] + b[1] + b[2])\n",
    "print(c[0,1])\n",
    "print(c[1,-2])\n",
    "print(d[1,1,2])"
   ]
  },
  {
   "cell_type": "code",
   "execution_count": null,
   "metadata": {},
   "outputs": [],
   "source": [
    "#Arrays Slicing\n",
    "myArray = np.array([1,2,3,4,5,6,8,9])\n",
    "print(myArray[1:5])\n",
    "print(myArray[:5])\n",
    "print(myArray[2:])\n",
    "print(myArray[-3:-1])\n",
    "print(myArray[1:5:2])#print 1-5 with the gap of 2 2"
   ]
  },
  {
   "cell_type": "code",
   "execution_count": null,
   "metadata": {},
   "outputs": [],
   "source": [
    "#Slicing of 2D Arrays\n",
    "my2DArray = np.array([[1, 2, 3,4,5,6], [7,8,9,10,11,12],[13,14,15,16,17,18]])\n",
    "print(my2DArray)\n",
    "print(my2DArray.ndim)\n",
    "print(my2DArray[1,1:4])#first row from 1-4 index but 4th is not included\n",
    "print(\"\\n\")\n",
    "print(my2DArray[:,1:4])#first column from 1-4 index\n",
    "print(\"\\n\")\n",
    "print(my2DArray[0:3,2])\n",
    "print(\"\\n\")\n",
    "print(my2DArray[0:3,0:3])"
   ]
  },
  {
   "cell_type": "code",
   "execution_count": null,
   "metadata": {},
   "outputs": [],
   "source": [
    "#Data Types of arrays\n",
    "myArray1D = np.array([1.1, 2.2, 3.3, 4.4, 5.4])\n",
    "myArray1D = np.array([\"Hllo\", \"How\", \"Are\", \"you\", \"mr\",\"okk\"])\n",
    "myArray1D = np.array([1, 2, 3, 4, 5],dtype='i')\n",
    "\n",
    "print(myArray1D)\n",
    "print(myArray1D.dtype)\n",
    "myArray1D = np.array([1.1, 2.2, 3.3, 4.4, 5.5])\n",
    "myArray1D = np.array([1, 0, 3, 0, 5])\n",
    "newArray = myArray1D.astype(bool)\n",
    "print(newArray)\n",
    "print(newArray.dtype)\n"
   ]
  },
  {
   "cell_type": "code",
   "execution_count": null,
   "metadata": {},
   "outputs": [],
   "source": [
    "#Copy and view of arrays\n",
    "myarray = np.array([1,2,3,4,5,6,7,8,9])\n",
    "print(myarray)\n",
    "copiedArray = myarray.copy()\n",
    "myarray[3] = 17\n",
    "print(myarray)\n",
    "print(copiedArray)\n",
    "#if we copy array and make some change in first or original array copied array will not effected because copied array will make another array\n",
    "#vview of array\n",
    "print(\"\\n--------View of an array--------\\n\")\n",
    "viewArray = myarray.view()\n",
    "myarray[0] = 22\n",
    "print(myarray)\n",
    "print(viewArray)\n",
    "print(\"\\n\")\n",
    "print(myarray.base)#it has own data--->none\n",
    "print(viewArray.base)#it has someone else data"
   ]
  },
  {
   "cell_type": "code",
   "execution_count": null,
   "metadata": {},
   "outputs": [],
   "source": [
    "#Arrays shape\n",
    "arrayShape = np.array([[1,2,3],[4,5,6],[7,8,9],[10,11,12]])\n",
    "print(arrayShape)\n",
    "print(\"Array has (rows,columns):\\t\",arrayShape.shape)#shape tells uss how many rows and columns there are in the array\n",
    "listArray = np.array([1,2,3,4,5,6,7,8,9,10,11,12,13,14,15,16])\n",
    "#reshapedArray = listArray.reshape(3,4)\n",
    "#print(reshapedArray)\n",
    "print(\"\\n---------Convert 1D to 3D---------\\n\")\n",
    "reshapedArray = listArray.reshape(2,4,2)\n",
    "print(reshapedArray)\n",
    "\n"
   ]
  },
  {
   "cell_type": "code",
   "execution_count": null,
   "metadata": {},
   "outputs": [],
   "source": [
    "#Iteration in arrays\n",
    "\"\"\"Myarray = np.array([11,2,3,4,5,6,7,8,9])\n",
    "for i in Myarray:\n",
    "    print(i)\n",
    "print(\"\\n\")\n",
    "my2DArray = np.array([[11,12,13,14],[15,16,17,18]])\n",
    "for i in my2DArray:\n",
    "    for j in i:\n",
    "        print(j)\"\"\"\n",
    "print(\"\\n-------3D Arrays--------\\n\") \n",
    "my3dArary = np.array([[[1,2,3],[4,5,6]],[[7,8,9],[10,11,12]]])\n",
    "for i in my3dArary:\n",
    "     for j in i:\n",
    "         for k in j:\n",
    "            print(k)\n",
    "        "
   ]
  },
  {
   "cell_type": "code",
   "execution_count": null,
   "metadata": {},
   "outputs": [],
   "source": [
    "\"\"\"arr = np.array([[[1, 2,2], [3, 4,4]], [[5, 6,6], [7, 8,8]]])\n",
    "for i in np.nditer(arr):\n",
    "    print(i)\"\"\"\n",
    "\n",
    "#arr = np.array([[[1, 2,2], [3, 4,4]], [[5, 6,6], [7, 8,8]]])\n",
    "#for i in np.nditer(arr,flags=['buffered'],op_dtypes=['S']):\n",
    " #   print(i)\n",
    " \"\"\"myArr = np.array([[1,2,3,4],[4,5,6,7]])\n",
    " for i in np.nditer(myArr[:,::2]):\n",
    "     print(i)\"\"\"\n"
   ]
  },
  {
   "cell_type": "code",
   "execution_count": null,
   "metadata": {},
   "outputs": [],
   "source": [
    "# arr = np.array([[1, 2, 3, 4], [5, 6, 7, 8]])\n",
    "\n",
    "# for x in np.nditer(arr[:, ::2]):\n",
    "#   print(x)\n",
    "#iteration using ndenumertel indexvise date----->\n",
    "arr = np.array([1,2,3,4,5,6,7,8])\n",
    "for i,x in np.ndenumerate(arr):\n",
    "    print(i,x)\n",
    "    \n",
    "my2DArray = np.array([[1,2,3,4,5],[6,7,8,9,0]])\n",
    "for i , x in np.ndenumerate(my2DArray):\n",
    "    print(i,x)\n"
   ]
  },
  {
   "cell_type": "code",
   "execution_count": null,
   "metadata": {},
   "outputs": [],
   "source": [
    "#Array joining methods\n",
    "#-01 concatenate\n",
    "#-02 stack\n",
    "#-03 hstack--->\n",
    "#-04 vstack-->columns wise joining\n",
    "istArray = np.array([1, 2, 3,4])\n",
    "secArray = np.array([5,6,7,8])\n",
    "#print(np.concatenate((istArray, secArray)))\n",
    "#thirdArray = np.stack((istArray, secArray),axis=1)\n",
    "#thirdArray = np.hstack((istArray, secArray))\n",
    "\n",
    "# thirdArray = np.vstack((istArray, secArray))\n",
    "thirdArray = np.dstack((istArray, secArray))\n",
    "\n",
    "print(thirdArray)\n",
    "\n",
    "#join 1 D Array using stack\n",
    "#ist2DArray = np.array([[1,2,3,4],[5,6,7,8]])"
   ]
  },
  {
   "cell_type": "code",
   "execution_count": null,
   "metadata": {},
   "outputs": [],
   "source": [
    "#Arrays split\n",
    "newArray = np.array([1,2,3,4,5,6])\n",
    "splitedArray = np.array_split(newArray,4)\n",
    "print(splitedArray)\n",
    "print(\"\\n-----------------------\\n\")\n",
    "new2DArray = np.array([[1,2,3],[4,5,6],[7,8,9],[10,11,12],[13,14,15],[16,17,18],[19,20,21]])\n",
    "splited2DArray = np.array_split(new2DArray,3,axis=1)\n",
    "print(splited2DArray)"
   ]
  },
  {
   "cell_type": "code",
   "execution_count": null,
   "metadata": {},
   "outputs": [],
   "source": [
    "#Searching and sorting in arrays\n",
    "searchedArray = np.array([1,3,5,7])\n",
    "#x = np.where(searchedArray==6)\n",
    "#print(x)\n",
    "\n",
    "#------even odd in arrays------\n",
    "#x = np.where(searchedArray%2==0)\n",
    "#x = np.where(searchedArray%2!=0)\n",
    "#x = np.where(searchedArray%2==1)\n",
    "#print(x)\n",
    "\n",
    "#searched sorted Arrays\n",
    "#x = np.searchsorted(searchedArray,5,side='right')\n",
    "x = np.searchsorted(searchedArray,[2,4,6])\n",
    "print(x)"
   ]
  },
  {
   "cell_type": "code",
   "execution_count": null,
   "metadata": {},
   "outputs": [],
   "source": [
    "sortedArray = np.array([11,3,51,17])\n",
    "sortedArray = np.sort(sortedArray)\n",
    "print(sortedArray)\n"
   ]
  },
  {
   "cell_type": "code",
   "execution_count": null,
   "metadata": {},
   "outputs": [],
   "source": [
    "#Array and filter\n",
    "array = np.array([1,2,3,4,5,6,7,8,9,])\n",
    "#x = [True,False,True,False,False]\n",
    "#newarray = array[x]\n",
    "#print(newarray)\n",
    "filter_Array = []\n",
    "for i in array:\n",
    "    if i > 3:\n",
    "        filter_Array.append(True)\n",
    "    else:\n",
    "        filter_Array.append(False)\n",
    "newArray = array[filter_Array]\n",
    "print(newArray)\n",
    "print(filter_Array)"
   ]
  }
 ],
 "metadata": {
  "kernelspec": {
   "display_name": "Python 3",
   "language": "python",
   "name": "python3"
  },
  "language_info": {
   "codemirror_mode": {
    "name": "ipython",
    "version": 3
   },
   "file_extension": ".py",
   "mimetype": "text/x-python",
   "name": "python",
   "nbconvert_exporter": "python",
   "pygments_lexer": "ipython3",
   "version": "3.11.4"
  },
  "orig_nbformat": 4
 },
 "nbformat": 4,
 "nbformat_minor": 2
}
