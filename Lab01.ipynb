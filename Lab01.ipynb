{
 "cells": [
  {
   "cell_type": "code",
   "execution_count": null,
   "metadata": {},
   "outputs": [],
   "source": [
    "#Qno1\n",
    "# y=ax3+ax+x-7\n",
    "a = int(input(\"Enter the value of a\"))\n",
    "x = int(input(\"ENter the value of x\"))\n",
    "y = a*x**3+a*x + x -7\n",
    "print(\"The value of y is \" + str(y))\n"
   ]
  },
  {
   "cell_type": "code",
   "execution_count": null,
   "metadata": {},
   "outputs": [],
   "source": [
    "#Qno2\n",
    "#take two input from user and check ist number is multiple of second or not\n",
    "num1 = int(input(\"Enter first number\"))\n",
    "num2 = int(input(\"Enter second number\"))\n",
    "if num1 %num2==0:\n",
    "    print(\"num1 is multiple of number 2\")\n",
    "else:\n",
    "    print(\"Number1 is not multiple of number 2\")"
   ]
  },
  {
   "cell_type": "code",
   "execution_count": null,
   "metadata": {},
   "outputs": [],
   "source": [
    "num1 = int(input(\"Enter first numbers\"))\n",
    "num2 = int(input(\"Enter secondnumbers\"))\n",
    "num3 = int(input(\"Enter third numbers\"))\n",
    "num4 = int(input(\"Enter fourth numbers\"))\n",
    "num5 = int(input(\"Enter fourth numbers\"))\n",
    "max = 0\n",
    "min = 10000\n",
    "if num1>max:\n",
    "    max = num1\n",
    "if num2>max:\n",
    "    max = num2\n",
    "if num3>max:\n",
    "    max = num3\n",
    "if num4>max:\n",
    "    max = num4\n",
    "if num5>max:\n",
    "    max = num5\n",
    "print(\"The max number is:\\t\"+ str(max))\n",
    "if num1 < min:\n",
    "    min = num1\n",
    "if num2 < min:\n",
    "    min = num2\n",
    "if num3 < min:\n",
    "    min = num3\n",
    "if num4 < min:\n",
    "    min = num4\n",
    "if num5 < min:\n",
    "    min = num5\n",
    "print(\"The min number is:\\t\"+ str(min))\n"
   ]
  },
  {
   "cell_type": "code",
   "execution_count": null,
   "metadata": {},
   "outputs": [],
   "source": [
    "#recursion in python\n",
    "#Input a number and Print numbers up to that number in reverse\n",
    "def recursive_function(number):\n",
    "    if number<10:\n",
    "        print(int(number))\n",
    "    else:\n",
    "        print(int(number%10))\n",
    "        recursive_function(number/10)\n",
    "if __name__ == \"__main__\":\n",
    "    num1 = int(input(\"Enter a number\"))\n",
    "    recursive_function(num1)\n"
   ]
  },
  {
   "cell_type": "code",
   "execution_count": null,
   "metadata": {},
   "outputs": [],
   "source": [
    "# Input a number and print even numbers up to that number\n",
    "def evenNumber(number):\n",
    "    if(number>=0):\n",
    "        evenNumber(number-1)\n",
    "        if number%2==0:\n",
    "            print(number)\n",
    "if __name__ == \"__main__\":\n",
    "    number = int (input(\"Enter upper limit\"))\n",
    "    evenNumber(number)"
   ]
  },
  {
   "cell_type": "code",
   "execution_count": 30,
   "metadata": {},
   "outputs": [
    {
     "name": "stdout",
     "output_type": "stream",
     "text": [
      "120\n"
     ]
    }
   ],
   "source": [
    "# 19. Write a function with the name of fact, which calculate factorial of a value that is sent as an argument\n",
    "def factoriall(number):\n",
    "    if number==1:\n",
    "        return number\n",
    "    else:\n",
    "        return number*factoriall(number-1)\n",
    "if __name__ == \"__main__\":\n",
    "    num1 = int(input('Enter any number'))\n",
    "    print(factoriall(num1))\n",
    "        "
   ]
  },
  {
   "cell_type": "code",
   "execution_count": 37,
   "metadata": {},
   "outputs": [
    {
     "name": "stdout",
     "output_type": "stream",
     "text": [
      "55\n"
     ]
    }
   ],
   "source": [
    "# Consider the Fibonacci series: 0, 1, 2, 3, 5, 8, 13, 21, 34, 55…., Input the index and print number in series\n",
    "def fabbonachi(number):\n",
    "    if number<=1:\n",
    "        return number\n",
    "    return fabbonachi(number-1)+ fabbonachi(number-2)\n",
    "if __name__==\"__main__\":\n",
    "    print(fabbonachi(10))\n"
   ]
  }
 ],
 "metadata": {
  "kernelspec": {
   "display_name": "Python 3",
   "language": "python",
   "name": "python3"
  },
  "language_info": {
   "codemirror_mode": {
    "name": "ipython",
    "version": 3
   },
   "file_extension": ".py",
   "mimetype": "text/x-python",
   "name": "python",
   "nbconvert_exporter": "python",
   "pygments_lexer": "ipython3",
   "version": "3.11.0"
  },
  "orig_nbformat": 4
 },
 "nbformat": 4,
 "nbformat_minor": 2
}
