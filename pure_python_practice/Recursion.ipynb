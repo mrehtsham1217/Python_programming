{
 "cells": [
  {
   "cell_type": "markdown",
   "source": [
    "# **Recursion**"
   ],
   "metadata": {
    "collapsed": false
   },
   "id": "965dcdc0665f64f7"
  },
  {
   "cell_type": "code",
   "outputs": [
    {
     "name": "stdout",
     "output_type": "stream",
     "text": [
      "30\n"
     ]
    }
   ],
   "source": [
    "# multiplication\n",
    "def multiplication(num1,num2):\n",
    "    if num2==1:\n",
    "        return num1\n",
    "    else:\n",
    "        return num1+multiplication(num1,num2-1)\n",
    "print(multiplication(5,6))"
   ],
   "metadata": {
    "collapsed": true,
    "ExecuteTime": {
     "end_time": "2024-01-07T06:38:41.723991400Z",
     "start_time": "2024-01-07T06:38:41.700594100Z"
    }
   },
   "id": "initial_id",
   "execution_count": 2
  },
  {
   "cell_type": "code",
   "outputs": [
    {
     "name": "stdout",
     "output_type": "stream",
     "text": [
      "Not a palindrome\n",
      "String is plindrome\n",
      "Not a palindrome\n",
      "String is plindrome\n",
      "String is plindrome\n"
     ]
    }
   ],
   "source": [
    "# palindrome using python\n",
    "def palindrome(string):\n",
    "    if len(string)<=1:\n",
    "        print(\"String is plindrome\")\n",
    "    else:\n",
    "        if string[0]==string[-1]:\n",
    "            palindrome(string[1:-1])\n",
    "        else:\n",
    "            print(\"Not a palindrome\")\n",
    "            \n",
    "palindrome(\"Hello\")\n",
    "palindrome(\"madam\")\n",
    "palindrome(\"muhbat\")\n",
    "palindrome(\"d\")\n",
    "palindrome(\"abba\")\n",
    "            "
   ],
   "metadata": {
    "collapsed": false,
    "ExecuteTime": {
     "end_time": "2024-01-07T06:47:44.056577900Z",
     "start_time": "2024-01-07T06:47:43.951821600Z"
    }
   },
   "id": "24e69161d5e2e237",
   "execution_count": 6
  },
  {
   "cell_type": "code",
   "outputs": [
    {
     "name": "stdout",
     "output_type": "stream",
     "text": [
      "233\n",
      "0.0011262893676757812\n"
     ]
    }
   ],
   "source": [
    "import time\n",
    "def rabits(months,mydict):\n",
    "    if months in mydict:\n",
    "        return mydict[months]\n",
    "    else:\n",
    "        mydict[months] =  rabits(months-1,mydict)+rabits(months-2,mydict)\n",
    "        return mydict[months]\n",
    "start = time.time()\n",
    "mydict = {0:1,1:1,2:2}\n",
    "print(rabits(12,mydict))\n",
    "print(time.time() - start)"
   ],
   "metadata": {
    "collapsed": false,
    "ExecuteTime": {
     "end_time": "2024-01-07T07:04:03.220057600Z",
     "start_time": "2024-01-07T07:04:03.171764900Z"
    }
   },
   "id": "999a253639f9cbb9",
   "execution_count": 20
  },
  {
   "cell_type": "markdown",
   "source": [
    "# **Namespace and Decorator**"
   ],
   "metadata": {
    "collapsed": false
   },
   "id": "20c9d4fefe293682"
  },
  {
   "cell_type": "code",
   "outputs": [
    {
     "ename": "UnboundLocalError",
     "evalue": "local variable 'a' referenced before assignment",
     "output_type": "error",
     "traceback": [
      "\u001B[1;31m---------------------------------------------------------------------------\u001B[0m",
      "\u001B[1;31mUnboundLocalError\u001B[0m                         Traceback (most recent call last)",
      "Cell \u001B[1;32mIn[22], line 5\u001B[0m\n\u001B[0;32m      3\u001B[0m     a\u001B[38;5;241m+\u001B[39m\u001B[38;5;241m=\u001B[39m\u001B[38;5;241m1\u001B[39m\n\u001B[0;32m      4\u001B[0m     \u001B[38;5;28mprint\u001B[39m(a)\n\u001B[1;32m----> 5\u001B[0m \u001B[43mtemp\u001B[49m\u001B[43m(\u001B[49m\u001B[43m)\u001B[49m\n\u001B[0;32m      6\u001B[0m \u001B[38;5;28mprint\u001B[39m(a)\n",
      "Cell \u001B[1;32mIn[22], line 3\u001B[0m, in \u001B[0;36mtemp\u001B[1;34m()\u001B[0m\n\u001B[0;32m      2\u001B[0m \u001B[38;5;28;01mdef\u001B[39;00m \u001B[38;5;21mtemp\u001B[39m():\n\u001B[1;32m----> 3\u001B[0m     a\u001B[38;5;241m+\u001B[39m\u001B[38;5;241m=\u001B[39m\u001B[38;5;241m1\u001B[39m\n\u001B[0;32m      4\u001B[0m     \u001B[38;5;28mprint\u001B[39m(a)\n",
      "\u001B[1;31mUnboundLocalError\u001B[0m: local variable 'a' referenced before assignment"
     ]
    }
   ],
   "source": [
    "a = 2\n",
    "def temp():\n",
    "    a+=1#--->cannot edit global\n",
    "    print(a)\n",
    "temp()\n",
    "print(a)"
   ],
   "metadata": {
    "collapsed": false,
    "ExecuteTime": {
     "end_time": "2024-01-07T07:19:40.865268500Z",
     "start_time": "2024-01-07T07:19:40.676709900Z"
    }
   },
   "id": "66d31151d892a271",
   "execution_count": 22
  },
  {
   "cell_type": "code",
   "outputs": [
    {
     "name": "stdout",
     "output_type": "stream",
     "text": [
      "3\n",
      "3\n"
     ]
    }
   ],
   "source": [
    "a = 2\n",
    "def temp():\n",
    "    global a#by using global keyword we can edit gloabal variable\n",
    "    a+=1#--->cannot edit global\n",
    "    print(a)\n",
    "temp()\n",
    "print(a)"
   ],
   "metadata": {
    "collapsed": false,
    "ExecuteTime": {
     "end_time": "2024-01-07T07:21:01.515570100Z",
     "start_time": "2024-01-07T07:21:01.374994500Z"
    }
   },
   "id": "4062feb0c20cd19b",
   "execution_count": 24
  },
  {
   "cell_type": "code",
   "outputs": [
    {
     "name": "stdout",
     "output_type": "stream",
     "text": [
      "2\n",
      "2\n"
     ]
    }
   ],
   "source": [
    "def temp():\n",
    "    global a#this is a global varibale created in local scope\n",
    "    a =1\n",
    "    a+=1#--->cannot edit global\n",
    "    print(a)\n",
    "temp()\n",
    "print(a)"
   ],
   "metadata": {
    "collapsed": false,
    "ExecuteTime": {
     "end_time": "2024-01-07T07:22:37.671026Z",
     "start_time": "2024-01-07T07:22:37.632862900Z"
    }
   },
   "id": "76a2cb23fdecd076",
   "execution_count": 26
  },
  {
   "cell_type": "code",
   "outputs": [],
   "source": [],
   "metadata": {
    "collapsed": false
   },
   "id": "b20dd753aa207c7b"
  }
 ],
 "metadata": {
  "kernelspec": {
   "display_name": "Python 3",
   "language": "python",
   "name": "python3"
  },
  "language_info": {
   "codemirror_mode": {
    "name": "ipython",
    "version": 2
   },
   "file_extension": ".py",
   "mimetype": "text/x-python",
   "name": "python",
   "nbconvert_exporter": "python",
   "pygments_lexer": "ipython2",
   "version": "2.7.6"
  }
 },
 "nbformat": 4,
 "nbformat_minor": 5
}
