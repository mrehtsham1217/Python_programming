{
 "cells": [
  {
   "cell_type": "markdown",
   "id": "adc95b51",
   "metadata": {},
   "source": [
    "# **QNO:01**"
   ]
  },
  {
   "cell_type": "code",
   "execution_count": 2,
   "id": "7f9d3af5",
   "metadata": {},
   "outputs": [
    {
     "data": {
      "text/plain": [
       "34.194599999999994"
      ]
     },
     "execution_count": 2,
     "metadata": {},
     "output_type": "execute_result"
    }
   ],
   "source": [
    "\"\"\"\n",
    "Task 1: Write a function which take the radius of circle as first argument and a char (a or c) as second argument. If second argument is a then return the area of circle. If the second argument is c then return the circumference of circle.\n",
    "\"\"\"\n",
    "def circle(radius, char_name):\n",
    "    if char_name==\"a\":\n",
    "        return 3.14*radius**2\n",
    "    elif char_name==\"c\":\n",
    "        return 2*3.14*radius\n",
    "    else:\n",
    "        print(\"Invalid input\")\n",
    "\n",
    "char_name = input(\"Enter char name:\")\n",
    "radius = float(input(\"Enter Radius:\"))\n",
    "circle(radius, char_name)"
   ]
  },
  {
   "cell_type": "markdown",
   "id": "8cc4f924",
   "metadata": {},
   "source": [
    "# **QNO:02**"
   ]
  },
  {
   "cell_type": "code",
   "execution_count": 4,
   "id": "1514ba20",
   "metadata": {},
   "outputs": [
    {
     "name": "stdout",
     "output_type": "stream",
     "text": [
      "Addition of numbers: 35\n",
      "Multiplication of numbers: 2160\n"
     ]
    }
   ],
   "source": [
    "\"\"\"Task 2: Write two functions add and multiply with five arguments and default values. These functions display result.\"\"\"\n",
    "def add_calculator(a=6, b=5, c=12, d=2, e=10):\n",
    "    return a+b+c+d+e\n",
    "\n",
    "def mul_calculator(a=5, b=6, c=4, d=2, e=9):\n",
    "    return a*b*c*d*e\n",
    "\n",
    "print(\"Addition of numbers:\",add_calculator())\n",
    "print(\"Multiplication of numbers:\",mul_calculator())"
   ]
  },
  {
   "cell_type": "markdown",
   "id": "fcb8aee1",
   "metadata": {},
   "source": [
    "# **QNO:03**"
   ]
  },
  {
   "cell_type": "code",
   "execution_count": 8,
   "id": "245f1556",
   "metadata": {},
   "outputs": [
    {
     "name": "stdout",
     "output_type": "stream",
     "text": [
      "Name: Ehtsham\n",
      "Salary: 9000\n",
      "Name: Ehtsham\n",
      "Salary: 10000\n"
     ]
    }
   ],
   "source": [
    "\"\"\"Write a program to create a function show_employee() using the following conditions.\n",
    "    • It should accept the employee’s name and salary and display both.\n",
    "    • If the salary is missing in the function call then assign default value 9000 to salary\"\"\"\n",
    "def show_employee(name, salary=9000):\n",
    "    print(\"Name:\",name)\n",
    "    print(\"Salary:\",salary)\n",
    "\n",
    "show_employee(name=\"Ehtsham\")\n",
    "show_employee(\"Ehtsham\",10000)"
   ]
  },
  {
   "cell_type": "markdown",
   "id": "326421f2",
   "metadata": {},
   "source": [
    "# **QNO:04**"
   ]
  },
  {
   "cell_type": "code",
   "execution_count": 9,
   "id": "42da3650",
   "metadata": {},
   "outputs": [
    {
     "name": "stdout",
     "output_type": "stream",
     "text": [
      "Name: Ehtsham\n",
      "Salary: 9000\n",
      "Designation: Worker\n"
     ]
    }
   ],
   "source": [
    "\"\"\"Write a program to create a function show_details() using the following conditions.\n",
    "    • It should accept the employee’s name and salary and display both\n",
    "    • If the salary is greater than 90000 then it shows the designation as Manager\n",
    "    • If salary is less than 90000 then it shows the designation as Worker\"\"\"\n",
    "def show_details(name, salary):\n",
    "    if salary>=90000:\n",
    "        print(\"Name:\",name)\n",
    "        print(\"Salary:\",salary)\n",
    "        print(\"Designation: Manager\")\n",
    "    elif salary<90000:\n",
    "        print(\"Name:\",name)\n",
    "        print(\"Salary:\",salary)\n",
    "        print(\"Designation: Worker\")\n",
    "\n",
    "show_details(\"Ehtsham\", 9000)"
   ]
  },
  {
   "cell_type": "markdown",
   "id": "d5993b45",
   "metadata": {},
   "source": [
    "# **QNO:05**"
   ]
  },
  {
   "cell_type": "code",
   "execution_count": null,
   "id": "c64abcc2",
   "metadata": {},
   "outputs": [],
   "source": [
    "from turtle import Turtle,Screen\n",
    "tk = Turtle()\n",
    "tk.pensize(20)\n",
    "tk.color(\"blue\")\n",
    "tk.circle(100)\n",
    "tk.penup()\n",
    "tk.forward(220)\n",
    "tk.pendown()\n",
    "tk.color(\"black\")\n",
    "\n",
    "tk.circle(100)\n",
    "\n",
    "tk.penup()\n",
    "tk.forward(220)\n",
    "tk.pendown()\n",
    "tk.color(\"red\")\n",
    "tk.circle(100)\n",
    "tk.penup()\n",
    "tk.goto(80,-110)\n",
    "tk.color(\"yellow\")\n",
    "\n",
    "tk.pendown()\n",
    "tk.circle(100)\n",
    "tk.penup()\n",
    "tk.forward(220)\n",
    "tk.color(\"green\")\n",
    "\n",
    "tk.pendown()\n",
    "tk.circle(100)\n",
    "\n",
    "\n",
    "\n",
    "screen = Screen() \n",
    "screen.exitonclick()"
   ]
  },
  {
   "cell_type": "markdown",
   "id": "5a53a6a8",
   "metadata": {},
   "source": [
    "# **QNO:06**"
   ]
  },
  {
   "cell_type": "code",
   "execution_count": null,
   "id": "0595b183",
   "metadata": {},
   "outputs": [],
   "source": [
    "from turtle import Turtle,Screen\n",
    "tk = Turtle()\n",
    "\n",
    "def not_filled_Shaped():\n",
    "    tk.color(\"red\")\n",
    "    tk.penup()\n",
    "    tk.goto(-200,-50)\n",
    "    tk.pendown()\n",
    "    tk.circle(40,steps=3)\n",
    "\n",
    "    tk.penup()\n",
    "    tk.goto(-100,-50)\n",
    "    tk.pendown()\n",
    "    tk.circle(40,steps=4)\n",
    "\n",
    "    tk.penup()\n",
    "    tk.goto(0,-50)\n",
    "    tk.pendown()\n",
    "    tk.circle(40,steps=5)\n",
    "\n",
    "    tk.penup()\n",
    "    tk.goto(100,-50)\n",
    "    tk.pendown()\n",
    "    tk.circle(40,steps=8)\n",
    "def filled_shape():\n",
    "    tk.color(\"red\")\n",
    "    tk.penup()\n",
    "    tk.goto(-200,-50)\n",
    "    tk.pendown()\n",
    "    tk.begin_fill()\n",
    "    tk.circle(40,steps=3)\n",
    "    tk.end_fill()\n",
    "\n",
    "    tk.penup()\n",
    "    tk.goto(-100,-50)\n",
    "    tk.begin_fill()\n",
    "    tk.pendown()\n",
    "    tk.circle(40,steps=4)\n",
    "    tk.end_fill()\n",
    "\n",
    "    tk.penup()\n",
    "    tk.goto(0,-50)\n",
    "    tk.begin_fill()\n",
    "    tk.pendown()\n",
    "    tk.circle(40,steps=5)\n",
    "    tk.end_fill()\n",
    "\n",
    "\n",
    "    tk.penup()\n",
    "    tk.goto(100,-50)\n",
    "    tk.begin_fill()\n",
    "    tk.pendown()\n",
    "    tk.circle(40,steps=8)\n",
    "    tk.end_fill()\n",
    "    \n",
    "\n",
    "filled_shape()\n",
    "# not_filled_Shaped()\n",
    "screen = Screen() \n",
    "screen.exitonclick()"
   ]
  },
  {
   "cell_type": "markdown",
   "id": "2369b6f6",
   "metadata": {},
   "source": [
    "# **QNO:07**"
   ]
  },
  {
   "cell_type": "code",
   "execution_count": null,
   "id": "60ce3ad8",
   "metadata": {},
   "outputs": [],
   "source": [
    "from turtle import Turtle,Screen\n",
    "tk = Turtle()\n",
    "center_circle = eval(input(\"Enter the  center points of circle:\"))\n",
    "radius = int(input(\"Enter the radius:\"))\n",
    "\n",
    "tk.color(\"red\")\n",
    "tk.penup()\n",
    "tk.goto(center_circle)\n",
    "tk.pendown()\n",
    "tk.circle(radius)\n",
    "\n",
    "\n",
    "\n",
    "screen = Screen() \n",
    "screen.exitonclick()"
   ]
  },
  {
   "cell_type": "markdown",
   "id": "d69aa9ec",
   "metadata": {},
   "source": [
    "# **QNO:08**"
   ]
  },
  {
   "cell_type": "code",
   "execution_count": null,
   "id": "a7b1e667",
   "metadata": {},
   "outputs": [],
   "source": [
    "from turtle import Turtle,Screen\n",
    "tk = Turtle()\n",
    "import random\n",
    "screen = Screen()\n",
    "\n",
    "tk.penup()\n",
    "tk.goto(-60,60)\n",
    "tk.pendown()\n",
    "for _ in range(4):\n",
    "    tk.forward(120)\n",
    "    tk.right(90)\n",
    "\n",
    "for _ in range(20):\n",
    "    x_pos = random.randint(-60,60)\n",
    "    y_pos = random.randint(-50,50)\n",
    "    tk.penup()\n",
    "    tk.goto(x_pos,y_pos)\n",
    "    tk.pendown()\n",
    "    tk.dot(10)\n",
    "\n",
    "\n",
    "\n",
    "screen.exitonclick()"
   ]
  },
  {
   "cell_type": "markdown",
   "id": "f3cf0eb9",
   "metadata": {},
   "source": [
    "# **QNO:10**"
   ]
  },
  {
   "cell_type": "code",
   "execution_count": 20,
   "id": "f00e6a5a",
   "metadata": {},
   "outputs": [
    {
     "name": "stdout",
     "output_type": "stream",
     "text": [
      "----------------------\n",
      "\n",
      "*\n",
      "**\n",
      "***\n",
      "****\n",
      "*****\n",
      "******\n",
      "*****\n",
      "****\n",
      "***\n",
      "**\n",
      "*\n",
      "----------------------\n",
      "54321\n",
      "4321\n",
      "321\n",
      "21\n",
      "1\n",
      "----------------------\n",
      "1\n",
      "12\n",
      "123\n",
      "1234\n",
      "12345\n"
     ]
    }
   ],
   "source": [
    "\"\"\"\n",
    "*\n",
    "* *\n",
    "* * *\n",
    "* * * *\n",
    "* * * * *    \n",
    "* * * *\n",
    "* * *\n",
    "* *\n",
    "*\n",
    "------------\n",
    "5 4 3 2 1\n",
    "4 3 2 1\n",
    "3 2 1\n",
    "2 1\n",
    "1\n",
    "\"\"\"\n",
    "def pattern():\n",
    "    for i in range(6):\n",
    "        print(\"*\"*i)\n",
    "    for j in range(6,0,-1):\n",
    "        print(\"*\"*j)\n",
    "def couting_pattern():\n",
    "    for i in range(5,0,-1):\n",
    "        for j in range(i,0,-1):\n",
    "            print(j,end=\"\")\n",
    "        print()\n",
    "def pattern2():\n",
    "    for i in range(1,6):\n",
    "        for j in range(1,i+1):\n",
    "            print(j,end=\"\")\n",
    "        print()\n",
    "print(\"----------------------\")\n",
    "pattern()\n",
    "print(\"----------------------\")\n",
    "couting_pattern()\n",
    "print(\"----------------------\")\n",
    "pattern2()"
   ]
  },
  {
   "cell_type": "markdown",
   "id": "1b19ffee",
   "metadata": {},
   "source": [
    "# **QNO:11**"
   ]
  },
  {
   "cell_type": "code",
   "execution_count": 22,
   "id": "ea0afaed",
   "metadata": {},
   "outputs": [
    {
     "name": "stdout",
     "output_type": "stream",
     "text": [
      "1\n",
      "2\n",
      "3\n",
      "4\n",
      "5\n",
      "6\n",
      "7\n",
      "8\n",
      "9\n",
      "10\n"
     ]
    }
   ],
   "source": [
    "\"\"\"Task 11: Print First 10 natural numbers using while loop.\"\"\"\n",
    "i=1\n",
    "while i<=10:\n",
    "    print(i)\n",
    "    i=i+1"
   ]
  },
  {
   "cell_type": "markdown",
   "id": "39647eb4",
   "metadata": {},
   "source": [
    "# **QNO:12**"
   ]
  },
  {
   "cell_type": "code",
   "execution_count": null,
   "id": "a58efb9a",
   "metadata": {},
   "outputs": [],
   "source": [
    "\"\"\"Task 12: Display Fibonacci series up to 10 terms.\"\"\"\n",
    "def fib(num):\n",
    "    a,b=0,1\n",
    "    for i in range(num):\n",
    "        print(a)\n",
    "        a,b=b,a+b\n",
    "fib(10)"
   ]
  },
  {
   "cell_type": "markdown",
   "id": "08fd570d",
   "metadata": {},
   "source": [
    "# **QNO:13**"
   ]
  },
  {
   "cell_type": "code",
   "execution_count": 28,
   "id": "bb470a3a",
   "metadata": {},
   "outputs": [
    {
     "name": "stdout",
     "output_type": "stream",
     "text": [
      "The factorial of number is : 120\n"
     ]
    }
   ],
   "source": [
    "\"\"\"Task 13: Find the factorial of a number inputted by user.\"\"\"\n",
    "def factorial(num):\n",
    "    fact = 1\n",
    "    for i in range(1,num+1):\n",
    "        fact = fact*i\n",
    "    return fact\n",
    "num=int(input(\"Enter a number:\"))\n",
    "print(\"The factorial of number is :\",factorial(num))"
   ]
  },
  {
   "cell_type": "markdown",
   "id": "cc16c74d",
   "metadata": {},
   "source": [
    "# **QNO:14**"
   ]
  },
  {
   "cell_type": "code",
   "execution_count": 29,
   "id": "b631b915",
   "metadata": {},
   "outputs": [
    {
     "name": "stdout",
     "output_type": "stream",
     "text": [
      "The sum of series is : 15\n"
     ]
    }
   ],
   "source": [
    "\"\"\"Task 14: Find the sum of the series up to term inputted by user.\"\"\"\n",
    "def sum_series(num):\n",
    "    sum = 0\n",
    "    for i in range(1,num+1):\n",
    "        sum = sum+i\n",
    "    return sum\n",
    "num=int(input(\"Enter a number:\"))\n",
    "print(\"The sum of series is :\",sum_series(num))"
   ]
  },
  {
   "cell_type": "markdown",
   "id": "180c2fd1",
   "metadata": {},
   "source": [
    "# **QNO:15**"
   ]
  },
  {
   "cell_type": "code",
   "execution_count": 34,
   "id": "c920512b",
   "metadata": {},
   "outputs": [
    {
     "name": "stdout",
     "output_type": "stream",
     "text": [
      "123 is not a prime number\n"
     ]
    }
   ],
   "source": [
    "\"\"\"Task 15: Input a number and check whether it is prime or not.\"\"\"\n",
    "def is_prime(num):\n",
    "    for i in range(2,num):\n",
    "        if num%i==0:\n",
    "            return False\n",
    "    return True\n",
    "num=int(input(\"Enter a number:\"))\n",
    "if is_prime(num):\n",
    "    print(num,\"is a prime number\")\n",
    "else:\n",
    "    print(num,\"is not a prime number\")"
   ]
  },
  {
   "cell_type": "markdown",
   "id": "3d791d47",
   "metadata": {},
   "source": [
    "# **QNO:16**"
   ]
  },
  {
   "cell_type": "code",
   "execution_count": 40,
   "id": "914ea97b",
   "metadata": {},
   "outputs": [
    {
     "name": "stdout",
     "output_type": "stream",
     "text": [
      "54321"
     ]
    }
   ],
   "source": [
    "\"\"\"Task 16: Ask user to enter a 5-digit integer number and display this number in reverse using loop\"\"\"\n",
    "num=int(input(\"Enter a number:\"))\n",
    "while num>0:\n",
    "    print(num%10,end=\"\")\n",
    "    num=num//10"
   ]
  },
  {
   "cell_type": "markdown",
   "id": "bba093cb",
   "metadata": {},
   "source": [
    "# **QNO:19**"
   ]
  },
  {
   "cell_type": "code",
   "execution_count": 2,
   "id": "42871def",
   "metadata": {},
   "outputs": [
    {
     "name": "stdout",
     "output_type": "stream",
     "text": [
      "7*0=0\n",
      "7*1=7\n",
      "7*2=14\n",
      "7*3=21\n",
      "7*4=28\n",
      "7*5=35\n",
      "7*6=42\n",
      "7*7=49\n",
      "7*8=56\n",
      "7*9=63\n",
      "7*10=70\n"
     ]
    }
   ],
   "source": [
    "table = int(input(\"Enter a Table:\"))\n",
    "upper_limit = int(input(\"Enter upper limit:\"))\n",
    "\n",
    "for _ in range(1,upper_limit+1):\n",
    "    print(f\"{table}*{_}={table*_}\")"
   ]
  },
  {
   "cell_type": "markdown",
   "id": "828540b1",
   "metadata": {},
   "source": [
    "# **QNO:22**"
   ]
  },
  {
   "cell_type": "code",
   "execution_count": 65,
   "id": "25ae979c",
   "metadata": {},
   "outputs": [
    {
     "name": "stdout",
     "output_type": "stream",
     "text": [
      "(0,)\n",
      "(5,)\n",
      "(2, 2, 3)\n",
      "(1, 1, 1, 1, 1, 3)\n"
     ]
    }
   ],
   "source": [
    "\"\"\"Declare a 0-dimension,1-dimension,2-dimension,3-dimension,5-dimension array and print it.\"\"\"\n",
    "import numpy as np\n",
    "zero_dim_array = np.array([])\n",
    "one_dim_array = np.array([1,2,3,4,5],dtype=np.uint8)\n",
    "two_dim_array = np.array([[1,2,3],[4,5,6],[7,8,9]],dtype=np.uint8)\n",
    "three_dim_array = np.array([[[1,2,3],[4,5,6]],[[1,2,3],[1,2,3]]],dtype=np.uint8)\n",
    "five_dim_array=np.array([[[[[[1,2,3]]]]]])\n",
    "print(zero_dim_array.shape)\n",
    "print(one_dim_array.shape)\n",
    "print(three_dim_array.shape)\n",
    "print(five_dim_array.shape)"
   ]
  },
  {
   "cell_type": "code",
   "execution_count": 66,
   "id": "08d93a88",
   "metadata": {},
   "outputs": [
    {
     "name": "stdout",
     "output_type": "stream",
     "text": [
      "apple\n",
      "banana\n",
      "cherry\n"
     ]
    }
   ],
   "source": [
    "fruits_list = np.array(['apple','banana','cherry'])\n",
    "for i in fruits_list:\n",
    "    print(i)"
   ]
  },
  {
   "cell_type": "code",
   "execution_count": 51,
   "id": "60a37dfa",
   "metadata": {},
   "outputs": [
    {
     "name": "stdout",
     "output_type": "stream",
     "text": [
      "Largest element in array: 5\n"
     ]
    }
   ],
   "source": [
    "print(\"Largest element in array:\",one_dim_array.max())"
   ]
  },
  {
   "cell_type": "code",
   "execution_count": 58,
   "id": "e8c97a11",
   "metadata": {},
   "outputs": [
    {
     "name": "stdout",
     "output_type": "stream",
     "text": [
      "Sum of 2D array 45\n"
     ]
    }
   ],
   "source": [
    "sum_of_array = np.sum(two_dim_array)\n",
    "print(\"Sum of 2D array\",sum_of_array)"
   ]
  },
  {
   "cell_type": "code",
   "execution_count": 63,
   "id": "9f02946e",
   "metadata": {},
   "outputs": [
    {
     "name": "stdout",
     "output_type": "stream",
     "text": [
      "Origanal array: [0 1 2 3 4 5 6 7 8 9]\n",
      "ReplacedARray [ 0 -1  2 -1  4 -1  6 -1  8 -1]\n"
     ]
    }
   ],
   "source": [
    "\"\"\"Replace all odd numbers in array [0, 1, 2, 3, 4, 5, 6, 7, 8, 9] with -1 without changing array.\"\"\"\n",
    "my_array = np.array([0, 1, 2, 3, 4, 5, 6, 7, 8, 9])\n",
    "my_array_copy = my_array.copy()\n",
    "\n",
    "my_array_copy[my_array_copy%2!=0]=-1\n",
    "\n",
    "print(\"Origanal array:\",my_array)\n",
    "print(\"ReplacedARray\",my_array_copy)"
   ]
  },
  {
   "cell_type": "markdown",
   "id": "2597bdb3",
   "metadata": {},
   "source": [
    "# **QNO:27**"
   ]
  },
  {
   "cell_type": "code",
   "execution_count": 67,
   "id": "218c010d",
   "metadata": {},
   "outputs": [
    {
     "name": "stdout",
     "output_type": "stream",
     "text": [
      "ISBN: 123\n",
      "Title: Mybook\n",
      "Price: 200\n",
      "Main Area: Lahore\n",
      "Sub Area: NTU\n",
      "No of Pages: 300\n"
     ]
    }
   ],
   "source": [
    "\"\"\"Task 27: Create a class BOOK with properties ISBN, Title, Price, Main Area, Sub Area, No of Pages. Constructors initialize these properties and show function display properties of and object. Call functions using object.\"\"\"\n",
    "class Book:\n",
    "    def __init__(self,isbn,title,price,main_area,sub_area,no_of_pages):\n",
    "        self.isbn=isbn\n",
    "        self.title=title\n",
    "        self.price=price\n",
    "        self.main_area=main_area\n",
    "        self.sub_area=sub_area\n",
    "        self.no_of_pages=no_of_pages\n",
    "    def display(self):\n",
    "        print(\"ISBN:\",self.isbn)\n",
    "        print(\"Title:\",self.title)\n",
    "        print(\"Price:\",self.price)\n",
    "        print(\"Main Area:\",self.main_area)\n",
    "        print(\"Sub Area:\",self.sub_area)\n",
    "        print(\"No of Pages:\",self.no_of_pages)\n",
    "book = Book(123,\"Mybook\",200,\"Lahore\",\"NTU\",300)\n",
    "book.display()"
   ]
  },
  {
   "cell_type": "code",
   "execution_count": 69,
   "id": "c03954ce",
   "metadata": {},
   "outputs": [
    {
     "name": "stdout",
     "output_type": "stream",
     "text": [
      "Student ID: 1217\n",
      "Student Name: Ehtsham\n",
      "Student Class: BSCS\n"
     ]
    }
   ],
   "source": [
    "\"\"\"Write a Python class named Student with two attributes: student_id, student_name. Add a new attribute: student_class. Create a function to display all attributes and their values in the student class.\"\"\"\n",
    "class Student:\n",
    "    def __init__(self, student_id, student_name):\n",
    "        self.student_id = student_id\n",
    "        self.student_name = student_name\n",
    "        self.student_class = None\n",
    "\n",
    "    def display_student_info(self):\n",
    "        print(\"Student ID:\", self.student_id)\n",
    "        print(\"Student Name:\", self.student_name)\n",
    "        print(\"Student Class:\", self.student_class)\n",
    "\n",
    "student1 = Student(1217, \"Ehtsham\")\n",
    "\n",
    "student1.student_class = \"BSCS\"\n",
    "\n",
    "student1.display_student_info()\n"
   ]
  },
  {
   "cell_type": "code",
   "execution_count": null,
   "id": "adbf4c37",
   "metadata": {},
   "outputs": [],
   "source": []
  }
 ],
 "metadata": {
  "kernelspec": {
   "display_name": "Python 3 (ipykernel)",
   "language": "python",
   "name": "python3"
  },
  "language_info": {
   "codemirror_mode": {
    "name": "ipython",
    "version": 3
   },
   "file_extension": ".py",
   "mimetype": "text/x-python",
   "name": "python",
   "nbconvert_exporter": "python",
   "pygments_lexer": "ipython3",
   "version": "3.10.12"
  }
 },
 "nbformat": 4,
 "nbformat_minor": 5
}
