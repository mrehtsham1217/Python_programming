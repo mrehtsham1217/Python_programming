{
 "cells": [
  {
   "cell_type": "code",
   "execution_count": null,
   "metadata": {},
   "outputs": [],
   "source": [
    "print(\"Hello Ehtsham\")\n",
    "print(\"\\n welcome to python programming\")\n",
    "x = 5\n",
    "print(x)\n",
    "print(type(x))\n",
    "\"\"\"name = \"Ehtsham\"\n",
    "print(\"Your name is:\\t\",name)\n",
    "print(type(name))\"\"\""
   ]
  },
  {
   "cell_type": "code",
   "execution_count": null,
   "metadata": {},
   "outputs": [],
   "source": [
    "#typecasting\n",
    "x = 10.5\n",
    "print(type(x))\n",
    "x = int(x)\n",
    "print(type(x))\n",
    "x = str(x)\n",
    "print(type(x))\n",
    "print(x)"
   ]
  },
  {
   "cell_type": "code",
   "execution_count": 25,
   "metadata": {},
   "outputs": [
    {
     "name": "stdout",
     "output_type": "stream",
     "text": [
      "Addition of two numbers:\t 42\n"
     ]
    }
   ],
   "source": [
    "#user input\n",
    "#name = input(\"Enter your name:\\t\")\n",
    "#print(\"Your name is :\\t\",name)\n",
    "num1 = int(input(\"Enter your number:\\t\"))\n",
    "num2 = int(input(\"Enter your number2:\\t\"))\n",
    "print(\"Addition of two numbers:\\t\",num1+num2)"
   ]
  },
  {
   "cell_type": "code",
   "execution_count": null,
   "metadata": {},
   "outputs": [],
   "source": [
    "name = \"Ehtsham\"\n",
    "lastname = \"Khaliq\"\n",
    "print(name + \" \" + lastname)\n",
    "#myNameIs-->camelcase\n",
    "#MyNameIs--->pascal case\n",
    "print(5<9)"
   ]
  },
  {
   "cell_type": "code",
   "execution_count": 31,
   "metadata": {},
   "outputs": [
    {
     "name": "stdout",
     "output_type": "stream",
     "text": [
      "Number 1 is equal to number 2\n"
     ]
    }
   ],
   "source": [
    "#if esle statement\n",
    "num1 = 20\n",
    "num2 = 20\n",
    "if num1>num2:\n",
    "    print(\"Number 1 is greater than number 2\")\n",
    "elif num1 ==num2:\n",
    "    print(\"Number 1 is equal to number 2\")\n",
    "else:\n",
    "    print(\"Number 2 is greater than number 1\")\n",
    "\n",
    "    "
   ]
  }
 ],
 "metadata": {
  "kernelspec": {
   "display_name": "Python 3",
   "language": "python",
   "name": "python3"
  },
  "language_info": {
   "codemirror_mode": {
    "name": "ipython",
    "version": 3
   },
   "file_extension": ".py",
   "mimetype": "text/x-python",
   "name": "python",
   "nbconvert_exporter": "python",
   "pygments_lexer": "ipython3",
   "version": "3.11.4"
  },
  "orig_nbformat": 4
 },
 "nbformat": 4,
 "nbformat_minor": 2
}
